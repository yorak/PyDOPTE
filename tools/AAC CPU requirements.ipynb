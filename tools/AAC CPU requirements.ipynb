{
 "metadata": {
  "name": "",
  "signature": "sha256:d3f6bf12fd9a4b3460b9314900b2dd57bf0a756b61c8716d011cab044d41c3da"
 },
 "nbformat": 3,
 "nbformat_minor": 0,
 "worksheets": [
  {
   "cells": [
    {
     "cell_type": "code",
     "collapsed": false,
     "input": [
      "def validation_time(set_size, repeat_cnt, cutoff, configurator_cnt, target_cnt):\n",
      "    return set_size*cutoff*repeat_cnt*target_cnt*configurator_cnt\n",
      "\n",
      "def configure_time( budgets, fold_cnt, repeat_cnt, cutoff, configurator_cnt, target_cnt ):\n",
      "    evaluations_total = sum(budgets)\n",
      "    return evaluations_total*fold_cnt*repeat_cnt*cutoff*configurator_cnt*target_cnt \n",
      "    \n",
      "sets = [\n",
      "    (\"AB\",27+23,10,3),\n",
      "    #(\"A\",27,10,3),\n",
      "    #(\"B\",23,10,3),\n",
      "    (\"IRIDIA\",120,60,5) ]\n",
      "budgets =  [500,1000,2000]\n",
      "#budgets =  [100,500,1000]\n",
      "\n",
      "total = 0.0\n",
      "for s in sets:\n",
      "    name, size, cutoff, target_cnt = s\n",
      "    vt_defaults = validation_time(size, 10, cutoff, 1, 1)\n",
      "    total += validation_time(size, 10, cutoff, 7, target_cnt)+vt_defaults\n",
      "    total += configure_time( budgets, 3, 10, cutoff, 7, target_cnt)\n",
      "\n",
      "print total/3600, \"hours\"\n",
      "print total/3600/24, \"days\""
     ],
     "language": "python",
     "metadata": {},
     "outputs": [
      {
       "output_type": "stream",
       "stream": "stdout",
       "text": [
        "68125.5555556 hours\n",
        "2838.56481481 days\n"
       ]
      }
     ],
     "prompt_number": 45
    },
    {
     "cell_type": "code",
     "collapsed": false,
     "input": [
      "total/3600/24/64"
     ],
     "language": "python",
     "metadata": {},
     "outputs": [
      {
       "metadata": {},
       "output_type": "pyout",
       "prompt_number": 33,
       "text": [
        "20.198567708333332"
       ]
      }
     ],
     "prompt_number": 33
    },
    {
     "cell_type": "code",
     "collapsed": false,
     "input": [
      "total/3600/16*0.76"
     ],
     "language": "python",
     "metadata": {},
     "outputs": [
      {
       "metadata": {},
       "output_type": "pyout",
       "prompt_number": 32,
       "text": [
        "1473.6875"
       ]
      }
     ],
     "prompt_number": 32
    },
    {
     "cell_type": "code",
     "collapsed": false,
     "input": [
      "\n",
      "sets = [\n",
      "    (\"CMT\",14,10,3,3),\n",
      "    (\"AB\",14,10,3,1),\n",
      "    (\"IRIDIA\",14,10,5,1) ]\n",
      "budgets =  [100,500,1000]\n",
      "\n",
      "total = 0.0\n",
      "for s in sets:\n",
      "    name, size, cutoff, target_cnt, folds = s\n",
      "    vt_defaults = validation_time(size, 10, cutoff, 1, 1)\n",
      "    total += validation_time(size, 10, cutoff, 7, target_cnt)+vt_defaults\n",
      "    total += configure_time( budgets, folds, 10, cutoff, 7, target_cnt)\n",
      "\n",
      "# 5000e\n",
      "total += validation_time(14, 10, 10, 1, 5)\n",
      "total += configure_time( [5000], 1, 10, 10, 1, 5)\n",
      "\n",
      "print total/3600, \"hours\"\n",
      "print total/3600/24, \"days\""
     ],
     "language": "python",
     "metadata": {},
     "outputs": [
      {
       "output_type": "stream",
       "stream": "stdout",
       "text": [
        "6016.38888889 hours\n",
        "250.68287037 days\n"
       ]
      }
     ],
     "prompt_number": 41
    },
    {
     "cell_type": "code",
     "collapsed": false,
     "input": [
      "total = 0\n",
      "total += validation_time(14, 10, 10, 1, 5)\n",
      "total += configure_time( [5000], 1, 10, 10, 1, 5)\n",
      "print total/3600/24"
     ],
     "language": "python",
     "metadata": {},
     "outputs": [
      {
       "output_type": "stream",
       "stream": "stdout",
       "text": [
        "29\n"
       ]
      }
     ],
     "prompt_number": 48
    },
    {
     "cell_type": "code",
     "collapsed": false,
     "input": [],
     "language": "python",
     "metadata": {},
     "outputs": []
    }
   ],
   "metadata": {}
  }
 ]
}